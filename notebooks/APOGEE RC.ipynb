{
 "cells": [
  {
   "cell_type": "code",
   "execution_count": null,
   "metadata": {
    "collapsed": true
   },
   "outputs": [],
   "source": [
    "import os\n",
    "\n",
    "# Third-party\n",
    "from astropy.io import ascii, fits\n",
    "import astropy.coordinates as coord\n",
    "import astropy.table as at\n",
    "import astropy.units as u\n",
    "import matplotlib as mpl\n",
    "import matplotlib.pyplot as pl\n",
    "import numpy as np\n",
    "%matplotlib inline\n",
    "\n",
    "from gary.units import galactic\n",
    "import gary.coordinates as gc\n",
    "\n",
    "from ophiuchus import vcirc, vlsr\n",
    "import ophiuchus.potential as op"
   ]
  },
  {
   "cell_type": "markdown",
   "metadata": {},
   "source": [
    "### Read in a reasonable model for the MW potential "
   ]
  },
  {
   "cell_type": "code",
   "execution_count": null,
   "metadata": {
    "collapsed": false
   },
   "outputs": [],
   "source": [
    "mw_pot = op.load_potential('static_mw')"
   ]
  },
  {
   "cell_type": "markdown",
   "metadata": {},
   "source": [
    "Melissa's red clump data with ages, Bovy's red clump data with abundances (from APOGEE)"
   ]
  },
  {
   "cell_type": "code",
   "execution_count": null,
   "metadata": {
    "collapsed": false
   },
   "outputs": [],
   "source": [
    "rc_age = ascii.read(\"/Users/adrian/projects/brucewillis/data/redclump_catalogue_apw.txt\")\n",
    "rc_age.rename_column('name', 'APOGEE_ID')\n",
    "rc_bovy = at.Table(fits.getdata(\"/Users/adrian/projects/brucewillis/data/apogee-rc-DR12.fits\", 1))"
   ]
  },
  {
   "cell_type": "code",
   "execution_count": null,
   "metadata": {
    "collapsed": false
   },
   "outputs": [],
   "source": [
    "rc = at.join(rc_age, rc_bovy, keys='APOGEE_ID')\n",
    "len(rc_age), len(rc_bovy), len(rc)"
   ]
  },
  {
   "cell_type": "code",
   "execution_count": null,
   "metadata": {
    "collapsed": false
   },
   "outputs": [],
   "source": [
    "print(rc.colnames)"
   ]
  },
  {
   "cell_type": "markdown",
   "metadata": {},
   "source": [
    "Turn -9999. into NaN's -- curse you SDSS!"
   ]
  },
  {
   "cell_type": "code",
   "execution_count": null,
   "metadata": {
    "collapsed": false
   },
   "outputs": [],
   "source": [
    "for colname in rc.colnames:\n",
    "    if rc[colname].dtype.name not in ['float64', 'float32']:\n",
    "        continue\n",
    "    \n",
    "    ix = np.isclose(rc[colname], -9999.)\n",
    "    rc[colname][ix] = np.nan"
   ]
  },
  {
   "cell_type": "markdown",
   "metadata": {},
   "source": [
    "Proper motions are from UCAC-4 so they suck, distance errors claimed to be 5%"
   ]
  },
  {
   "cell_type": "code",
   "execution_count": null,
   "metadata": {
    "collapsed": false
   },
   "outputs": [],
   "source": [
    "rv_c = coord.ICRS(ra=rc['RA']*u.degree, dec=rc['DEC']*u.degree, distance=rc['RC_DIST']*u.kpc)\n",
    "distance_err = rc['RC_DIST'] * u.kpc * 0.05\n",
    "\n",
    "rv = rc['VHELIO_AVG']*u.km/u.s\n",
    "rv_err = np.sqrt(rc['VERR']**2 + rc['VSCATTER']**2)*u.km/u.s\n",
    "\n",
    "pm_ra = rc['PMRA']*u.mas/u.yr\n",
    "pm_ra_err = rc['PMRA_ERR']*u.mas/u.yr\n",
    "\n",
    "pm_dec = rc['PMDEC']*u.mas/u.yr\n",
    "pm_dec_err = rc['PMDEC_ERR']*u.mas/u.yr\n",
    "\n",
    "pm_ra[pm_ra.value < -9999.] = np.nan\n",
    "pm_dec[pm_dec.value < -9999.] = np.nan\n",
    "pm_ra_err[pm_ra_err.value < -9999.] = np.nan\n",
    "pm_dec_err[pm_dec_err.value < -9999.] = np.nan"
   ]
  },
  {
   "cell_type": "markdown",
   "metadata": {},
   "source": [
    "Convert positions and velocities to Galactocentric quantities"
   ]
  },
  {
   "cell_type": "code",
   "execution_count": null,
   "metadata": {
    "collapsed": true
   },
   "outputs": [],
   "source": [
    "xyz = rv_c.transform_to(coord.Galactocentric).cartesian.xyz\n",
    "vxyz = gc.vhel_to_gal(rv_c, rv=rv, pm=(pm_ra, pm_dec))"
   ]
  },
  {
   "cell_type": "markdown",
   "metadata": {},
   "source": [
    "Compute angular momentum, energy (per unit mass)..."
   ]
  },
  {
   "cell_type": "code",
   "execution_count": null,
   "metadata": {
    "collapsed": false
   },
   "outputs": [],
   "source": [
    "L = np.cross(xyz, vxyz, axis=0)"
   ]
  },
  {
   "cell_type": "code",
   "execution_count": null,
   "metadata": {
    "collapsed": false
   },
   "outputs": [],
   "source": [
    "E = mw_pot.total_energy(x=xyz.decompose(galactic).value, \n",
    "                        v=vxyz.decompose(galactic).value)"
   ]
  },
  {
   "cell_type": "code",
   "execution_count": null,
   "metadata": {
    "collapsed": true
   },
   "outputs": [],
   "source": [
    "Lxy = np.sqrt(L[0]**2 + L[1]**2)\n",
    "Lz = L[2]\n",
    "Ltot = np.sqrt(np.sum(L**2, axis=0))"
   ]
  },
  {
   "cell_type": "markdown",
   "metadata": {},
   "source": [
    "Estimate radial, azimuthal, vertical frequencies"
   ]
  },
  {
   "cell_type": "code",
   "execution_count": null,
   "metadata": {
    "collapsed": false
   },
   "outputs": [],
   "source": [
    "import gary.dynamics as gd\n",
    "from scipy.signal import argrelmax, argrelmin"
   ]
  },
  {
   "cell_type": "code",
   "execution_count": null,
   "metadata": {
    "collapsed": true
   },
   "outputs": [],
   "source": [
    "w0 = gd.CartesianPhaseSpacePosition(pos=xyz, vel=vxyz)\n",
    "orbits = mw_pot.integrate_orbit(w0, dt=0.5, nsteps=2000)"
   ]
  },
  {
   "cell_type": "code",
   "execution_count": null,
   "metadata": {
    "collapsed": false
   },
   "outputs": [],
   "source": [
    "t = orbits.t\n",
    "\n",
    "allfreqs = np.zeros((3,len(rc)))\n",
    "for i in range(len(rc)):\n",
    "    cyl,_ = orbits[:,i].represent_as(coord.CylindricalRepresentation)\n",
    "\n",
    "    freqs = []\n",
    "    for name in ['rho','phi','z']:\n",
    "        i_max = argrelmax(getattr(cyl,name).value)[0]\n",
    "        i_min = argrelmin(getattr(cyl,name).value)[0]\n",
    "        T_max = t[i_max[1:]] - t[i_max[:-1]]\n",
    "        T_min = t[i_min[1:]] - t[i_min[:-1]]\n",
    "        freqs.append(2*np.pi/np.median((np.median(T_max).value, np.median(T_min).value)))\n",
    "    allfreqs[:,i] = freqs"
   ]
  },
  {
   "cell_type": "markdown",
   "metadata": {},
   "source": [
    "Compute E, L for samples from uncertainty distribution to check typical error in E, L"
   ]
  },
  {
   "cell_type": "code",
   "execution_count": null,
   "metadata": {
    "collapsed": true
   },
   "outputs": [],
   "source": [
    "def nan_median_absolute_deviation(x):\n",
    "    return np.nanmedian(np.abs(x - np.nanmedian(x)))"
   ]
  },
  {
   "cell_type": "code",
   "execution_count": null,
   "metadata": {
    "collapsed": false,
    "scrolled": true
   },
   "outputs": [],
   "source": [
    "ntrials = 128\n",
    "nsamples = 1024\n",
    "E_MADs = []\n",
    "L_MADs = []\n",
    "for i in np.random.randint(len(rc), size=ntrials):\n",
    "    this_c = rv_c[i]\n",
    "    \n",
    "    ra = np.zeros(nsamples) + this_c.ra.degree\n",
    "    dec = np.zeros(nsamples) + this_c.dec.degree\n",
    "    distance = np.random.normal(this_c.distance.value, distance_err.value[i], size=nsamples)\n",
    "    sample_c = coord.ICRS(ra=ra*u.degree, dec=dec*u.degree, distance=distance*u.kpc)\n",
    "    sample_xyz = sample_c.transform_to(coord.Galactocentric).cartesian.xyz\n",
    "    \n",
    "    sample_pm_ra = np.random.normal(pm_ra.value[i], pm_ra_err.value[i], size=nsamples)*u.mas/u.yr\n",
    "    sample_pm_dec = np.random.normal(pm_dec.value[i], pm_dec_err.value[i], size=nsamples)*u.mas/u.yr\n",
    "    sample_rv = np.random.normal(rv.value[i], rv_err.value[i], size=nsamples)*u.km/u.s\n",
    "    sample_vxyz = gc.vhel_to_gal(sample_c, rv=sample_rv, pm=(sample_pm_ra, sample_pm_dec))\n",
    "    \n",
    "    sample_L = np.cross(sample_xyz, sample_vxyz, axis=0)\n",
    "    sample_Ltot = np.sqrt(np.sum(sample_L**2, axis=0))\n",
    "    sample_E = mw_pot.total_energy(x=sample_xyz.decompose(galactic).value, \n",
    "                                   v=sample_vxyz.decompose(galactic).value)\n",
    "    \n",
    "    E_MADs.append(nan_median_absolute_deviation(sample_E))\n",
    "    L_MADs.append(nan_median_absolute_deviation(sample_Ltot))\n",
    "    \n",
    "E_MADs = np.array(E_MADs)\n",
    "L_MADs = np.array(L_MADs)"
   ]
  },
  {
   "cell_type": "markdown",
   "metadata": {},
   "source": [
    "TAKING THE MEDIAN OF THE MEDIAN ABSOLUTE DEVIATIONS -- COME AT ME I HAVE NO FEAR"
   ]
  },
  {
   "cell_type": "code",
   "execution_count": null,
   "metadata": {
    "collapsed": false
   },
   "outputs": [],
   "source": [
    "E_scale = 1.48 * np.nanmedian(E_MADs) # MAD to std dev\n",
    "L_scale = 1.48 * np.nanmedian(L_MADs) # MAD to std dev"
   ]
  },
  {
   "cell_type": "code",
   "execution_count": null,
   "metadata": {
    "collapsed": false
   },
   "outputs": [],
   "source": [
    "pl.figure(figsize=(8,6))\n",
    "pl.scatter(Lxy, rc['age'], marker='o', alpha=0.24,\n",
    "           c=rc['alphaFe'], cmap='viridis')\n",
    "pl.xscale('log')\n",
    "cb = pl.colorbar()\n",
    "cb.set_label(r'[$\\alpha/{\\rm Fe}$]')\n",
    "pl.xlabel('$L_{xy}$')\n",
    "pl.ylabel('Age [Gyr]')"
   ]
  },
  {
   "cell_type": "code",
   "execution_count": null,
   "metadata": {
    "collapsed": false
   },
   "outputs": [],
   "source": [
    "pl.figure(figsize=(8,6))\n",
    "pl.scatter(np.log10(-E), Lxy, marker='o', alpha=0.24,\n",
    "           c=rc['age'], cmap='viridis')\n",
    "pl.xlim(-1.5, -0.5)\n",
    "pl.yscale('log')\n",
    "cb = pl.colorbar()\n",
    "cb.set_label('Age [Gyr]')\n",
    "pl.xlabel(r'$\\log_{10}(-E)$')\n",
    "pl.ylabel('$L_{xy}$')"
   ]
  },
  {
   "cell_type": "code",
   "execution_count": null,
   "metadata": {
    "collapsed": false
   },
   "outputs": [],
   "source": [
    "pl.figure(figsize=(8,6))\n",
    "pl.scatter(allfreqs[0], allfreqs[2], marker='o', alpha=0.24,\n",
    "           c=rc['age'], cmap='viridis')\n",
    "pl.xlim(0., 0.1)\n",
    "pl.ylim(0., 0.1)\n",
    "cb = pl.colorbar()\n",
    "cb.set_label('Age [Gyr]')\n",
    "pl.xlabel(r'$\\Omega_R$')\n",
    "pl.ylabel(r'$\\Omega_z$')"
   ]
  },
  {
   "cell_type": "code",
   "execution_count": null,
   "metadata": {
    "collapsed": false
   },
   "outputs": [],
   "source": [
    "pl.figure(figsize=(8,6))\n",
    "pl.scatter(allfreqs[0], allfreqs[1], marker='o', alpha=0.24,\n",
    "           c=rc['age'], cmap='viridis')\n",
    "pl.xlim(0., 0.1)\n",
    "pl.ylim(0., 0.1)\n",
    "cb = pl.colorbar()\n",
    "cb.set_label('Age [Gyr]')\n",
    "pl.xlabel(r'$\\Omega_R$')\n",
    "pl.ylabel(r'$\\Omega_\\phi$')"
   ]
  },
  {
   "cell_type": "markdown",
   "metadata": {},
   "source": [
    "---"
   ]
  },
  {
   "cell_type": "code",
   "execution_count": null,
   "metadata": {
    "collapsed": false
   },
   "outputs": [],
   "source": [
    "from sklearn.cluster import KMeans\n",
    "from astropy.stats import median_absolute_deviation"
   ]
  },
  {
   "cell_type": "markdown",
   "metadata": {},
   "source": [
    "Cram the features into a matrix, `X = (n_samples, n_features)`"
   ]
  },
  {
   "cell_type": "code",
   "execution_count": null,
   "metadata": {
    "collapsed": false
   },
   "outputs": [],
   "source": [
    "feature_cols = ['FeH', 'alphaFe', 'age'] + [x for x in rc.colnames if x.endswith('_H') and x!='PARAM_M_H']\n",
    "feature_names = ['E', 'Lxy', 'Lz', 'Ltot', 'omegaR', 'omegaPhi', 'omegaZ'] + feature_cols\n",
    "print(feature_names)"
   ]
  },
  {
   "cell_type": "markdown",
   "metadata": {},
   "source": [
    "### Normalize the energy by the typical uncertainty"
   ]
  },
  {
   "cell_type": "code",
   "execution_count": null,
   "metadata": {
    "collapsed": false
   },
   "outputs": [],
   "source": [
    "logE = np.log10(-E / E_scale)\n",
    "pl.hist(logE[np.isfinite(logE)], bins=64)\n",
    "pl.xlim(1, 1.5)"
   ]
  },
  {
   "cell_type": "markdown",
   "metadata": {},
   "source": [
    "### Normalize angular momentum"
   ]
  },
  {
   "cell_type": "code",
   "execution_count": null,
   "metadata": {
    "collapsed": false,
    "scrolled": true
   },
   "outputs": [],
   "source": [
    "logLtot = np.log10(Ltot / L_scale)\n",
    "logLxy = np.log10(Lxy / L_scale)\n",
    "logLz = np.log10(-Lz / L_scale) # ignore retrograde for now :(\n",
    "\n",
    "pl.hist(logLtot[np.isfinite(logLtot)], bins=64, alpha=0.4)\n",
    "pl.hist(logLxy[np.isfinite(logLxy)], bins=64, alpha=0.4)\n",
    "_ = pl.hist(logLz[np.isfinite(logLz)], bins=64, alpha=0.4)"
   ]
  },
  {
   "cell_type": "code",
   "execution_count": null,
   "metadata": {
    "collapsed": false
   },
   "outputs": [],
   "source": [
    "X = np.zeros((len(rc), 7 + len(feature_cols))) # E, Lxy, Lz, Ltot, omegaR, omegaPhi, omegaZ + chemistry\n",
    "X[:,0] = logE\n",
    "X[:,1] = logLxy\n",
    "X[:,2] = logLz\n",
    "X[:,3] = logLtot\n",
    "X[:,4:7] = allfreqs.T / 0.01\n",
    "for i,col in enumerate(feature_cols, 7):\n",
    "    if '_H' in col:\n",
    "        scale = np.nanmedian(rc['{}_ERR'.format(col)])\n",
    "    else:\n",
    "        scale = 1.\n",
    "    X[:,i] = rc[col] / scale\n",
    "    \n",
    "# For now, only take stars with non-NAN values\n",
    "non_nan = np.all(np.isfinite(X), axis=1)\n",
    "X = X[non_nan]"
   ]
  },
  {
   "cell_type": "code",
   "execution_count": null,
   "metadata": {
    "collapsed": false
   },
   "outputs": [],
   "source": [
    "X.shape"
   ]
  },
  {
   "cell_type": "markdown",
   "metadata": {},
   "source": [
    "Hard-set the number of clusters and the number of random KMeans initializations to choose from"
   ]
  },
  {
   "cell_type": "code",
   "execution_count": null,
   "metadata": {
    "collapsed": true
   },
   "outputs": [],
   "source": [
    "n_clusters = 64\n",
    "ntrials = 16\n",
    "\n",
    "scores = np.zeros(ntrials)\n",
    "for i in range(ntrials):\n",
    "    km = KMeans(n_clusters=n_clusters, random_state=i)\n",
    "    km.fit(X)\n",
    "    scores[i] = km.score(X)"
   ]
  },
  {
   "cell_type": "markdown",
   "metadata": {},
   "source": [
    "Pick the \"best\" initialization based on the classification score"
   ]
  },
  {
   "cell_type": "code",
   "execution_count": null,
   "metadata": {
    "collapsed": false
   },
   "outputs": [],
   "source": [
    "km = KMeans(n_clusters=n_clusters, random_state=scores.argmax())\n",
    "km.fit(X)\n",
    "km.score(X)"
   ]
  },
  {
   "cell_type": "code",
   "execution_count": null,
   "metadata": {
    "collapsed": true
   },
   "outputs": [],
   "source": [
    "nmembers_per_cluster = np.zeros(km.n_clusters)\n",
    "for k in range(km.n_clusters):\n",
    "    members = km.labels_ == k\n",
    "    nmembers_per_cluster[k] = members.sum()"
   ]
  },
  {
   "cell_type": "code",
   "execution_count": null,
   "metadata": {
    "collapsed": false
   },
   "outputs": [],
   "source": [
    "pl.hist(nmembers_per_cluster)"
   ]
  },
  {
   "cell_type": "code",
   "execution_count": null,
   "metadata": {
    "collapsed": true
   },
   "outputs": [],
   "source": [
    "def plot_clusters(xfeature, yfeature):\n",
    "    fig,ax = pl.subplots(1,1,figsize=(6,6))\n",
    "\n",
    "    ix0 = feature_names.index(xfeature)\n",
    "    ix1 = feature_names.index(yfeature)\n",
    "\n",
    "    for k in range(km.n_clusters):\n",
    "        members = km.labels_ == k\n",
    "        cluster_center = km.cluster_centers_[k]\n",
    "        l, = ax.plot(X[members, ix0], X[members, ix1], marker='.', ls='none')\n",
    "    #     ax.plot(cluster_center[ix0], cluster_center[ix1], 'o', ls='none', color=l.get_color(),\n",
    "    #             markeredgecolor='k', markersize=6)\n",
    "\n",
    "    pl.xlabel(xfeature)\n",
    "    pl.ylabel(yfeature)"
   ]
  },
  {
   "cell_type": "code",
   "execution_count": null,
   "metadata": {
    "collapsed": false
   },
   "outputs": [],
   "source": [
    "plot_clusters(\"E\", \"Lxy\")"
   ]
  },
  {
   "cell_type": "code",
   "execution_count": null,
   "metadata": {
    "collapsed": false
   },
   "outputs": [],
   "source": [
    "plot_clusters(\"age\", \"E\")"
   ]
  },
  {
   "cell_type": "code",
   "execution_count": null,
   "metadata": {
    "collapsed": false
   },
   "outputs": [],
   "source": [
    "plot_clusters(\"omegaR\", \"Ltot\")"
   ]
  },
  {
   "cell_type": "code",
   "execution_count": null,
   "metadata": {
    "collapsed": false,
    "scrolled": false
   },
   "outputs": [],
   "source": [
    "alpha = 0.4 \n",
    "\n",
    "for k in range(km.n_clusters):\n",
    "    members = km.labels_ == k\n",
    "#     if members.sum() < nmembers_threshold:\n",
    "#         continue\n",
    "    \n",
    "    this_c = rv_c[non_nan][members].transform_to(coord.Galactic)\n",
    "    this_galcen = this_c.transform_to(coord.Galactocentric)\n",
    "    this_xyz = this_galcen.represent_as(coord.CartesianRepresentation).xyz\n",
    "    this_cyl = this_galcen.represent_as(coord.CylindricalRepresentation)\n",
    "    \n",
    "    fig,axes = pl.subplots(1,4,figsize=(20,5))\n",
    "    fig.suptitle(\"{}, {} stars\".format(k,members.sum()), y=1.01, fontsize=20)\n",
    "    axes[0].plot(this_c.l.degree, this_c.b.degree, marker='.', ls='none', alpha=alpha)\n",
    "    axes[0].set_xlim(360, 0)\n",
    "    axes[0].set_ylim(-90, 90)\n",
    "    axes[0].set_xlabel(\"l [deg]\")\n",
    "    axes[0].set_ylabel(\"b [deg]\")\n",
    "    \n",
    "    axes[1].plot(-8., 0., marker='o', color='r')\n",
    "    axes[1].plot(this_xyz[0].value, this_xyz[1].value, marker='.', ls='none', alpha=alpha)\n",
    "    axes[1].set_xlim(-20, 0)\n",
    "    axes[1].set_ylim(-10, 10)\n",
    "    axes[1].set_xlabel(\"x [kpc]\")\n",
    "    axes[1].set_ylabel(\"y [kpc]\")\n",
    "    \n",
    "    axes[2].plot(8., 0., marker='o', color='r')\n",
    "    axes[2].plot(this_cyl.rho.value, this_cyl.z.value, marker='.', ls='none', alpha=alpha)\n",
    "    axes[2].set_xlim(4,18)\n",
    "    axes[2].set_ylim(-7, 7)\n",
    "    axes[2].set_xlabel(\"R [kpc]\")\n",
    "    axes[2].set_ylabel(\"z [kpc]\")\n",
    "    \n",
    "    ix0 = feature_names.index('omegaR')\n",
    "    ix1 = feature_names.index('omegaZ')\n",
    "    axes[3].plot(X[members,ix0], X[members,ix1], marker='.', ls='none', alpha=alpha)\n",
    "    axes[3].set_xlim(0,10)\n",
    "    axes[3].set_ylim(0,10)\n",
    "    axes[3].set_xlabel(r\"$\\Omega_R$\")\n",
    "    axes[3].set_ylabel(r\"$\\Omega_z$\")\n",
    "    \n",
    "    fig.tight_layout()"
   ]
  },
  {
   "cell_type": "code",
   "execution_count": null,
   "metadata": {
    "collapsed": true
   },
   "outputs": [],
   "source": []
  }
 ],
 "metadata": {
  "git": {
   "suppress_outputs": "false"
  },
  "kernelspec": {
   "display_name": "Python 3",
   "language": "python",
   "name": "python3"
  },
  "language_info": {
   "codemirror_mode": {
    "name": "ipython",
    "version": 3
   },
   "file_extension": ".py",
   "mimetype": "text/x-python",
   "name": "python",
   "nbconvert_exporter": "python",
   "pygments_lexer": "ipython3",
   "version": "3.5.1"
  }
 },
 "nbformat": 4,
 "nbformat_minor": 0
}