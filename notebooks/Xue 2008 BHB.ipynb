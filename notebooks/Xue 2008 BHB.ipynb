{
 "cells": [
  {
   "cell_type": "code",
   "execution_count": null,
   "metadata": {
    "collapsed": true
   },
   "outputs": [],
   "source": [
    "# Third-party\n",
    "from astropy.io import ascii\n",
    "import astropy.coordinates as coord\n",
    "import astropy.units as u\n",
    "import matplotlib as mpl\n",
    "import matplotlib.pyplot as pl\n",
    "import numpy as np\n",
    "%matplotlib inline\n",
    "\n",
    "import gary.coordinates as gc"
   ]
  },
  {
   "cell_type": "code",
   "execution_count": null,
   "metadata": {
    "collapsed": false
   },
   "outputs": [],
   "source": [
    "tbl = ascii.read(\"/Users/adrian/Downloads/xue08_bhb.txt\")"
   ]
  },
  {
   "cell_type": "code",
   "execution_count": null,
   "metadata": {
    "collapsed": false
   },
   "outputs": [],
   "source": [
    "tbl.colnames"
   ]
  },
  {
   "cell_type": "code",
   "execution_count": null,
   "metadata": {
    "collapsed": false
   },
   "outputs": [],
   "source": [
    "c = coord.SkyCoord(l=tbl['GLON'], b=tbl['GLAT'], distance=tbl['d'], frame='galactic')\n",
    "err_dist = u.Quantity(tbl['d']*0.1)"
   ]
  },
  {
   "cell_type": "code",
   "execution_count": null,
   "metadata": {
    "collapsed": true
   },
   "outputs": [],
   "source": [
    "vhel = u.Quantity(tbl['HRVel'])\n",
    "err_vhel = u.Quantity(tbl['e_HRVel'])"
   ]
  },
  {
   "cell_type": "markdown",
   "metadata": {},
   "source": [
    "### Posterior constraints on full velocity vector"
   ]
  },
  {
   "cell_type": "code",
   "execution_count": null,
   "metadata": {
    "collapsed": true
   },
   "outputs": [],
   "source": [
    "from ophiuchus import vcirc, vlsr, galactocentric_frame\n",
    "from scipy.stats import norm\n",
    "import emcee"
   ]
  },
  {
   "cell_type": "code",
   "execution_count": null,
   "metadata": {
    "collapsed": true
   },
   "outputs": [],
   "source": [
    "def ln_posterior(p, coordinate, obs_vlos, err_vlos, sigma_halo):\n",
    "    pm_l,pm_b,vlos = p\n",
    "    \n",
    "    vgal = gc.vhel_to_gal(coordinate, \n",
    "                          pm=(pm_l*u.mas/u.yr,pm_b*u.mas/u.yr), \n",
    "                          rv=vlos*u.km/u.s,\n",
    "                          vcirc=vcirc, vlsr=vlsr, galactocentric_frame=galactocentric_frame)\n",
    "    vtot = np.sqrt(np.sum(vgal**2)).to(u.km/u.s).value\n",
    "    return norm.logpdf(vtot, loc=0., scale=sigma_halo) + norm.logpdf(vlos, loc=obs_vlos, scale=err_vlos)"
   ]
  },
  {
   "cell_type": "code",
   "execution_count": null,
   "metadata": {
    "collapsed": false
   },
   "outputs": [],
   "source": [
    "# %%prun\n",
    "# for i in range(100):\n",
    "#     ln_posterior([1,1.,180.], c[0], vhel[0], err_vhel[0], sigma_halo)"
   ]
  },
  {
   "cell_type": "code",
   "execution_count": null,
   "metadata": {
    "collapsed": true
   },
   "outputs": [],
   "source": [
    "sigma_halo = 250. # km/s\n",
    "ix = 0\n",
    "sampler = emcee.EnsembleSampler(nwalkers=16, dim=3, lnpostfn=ln_posterior, \n",
    "                                args=(c[ix],vhel[ix].value,err_vhel[ix].value,sigma_halo))"
   ]
  },
  {
   "cell_type": "code",
   "execution_count": null,
   "metadata": {
    "collapsed": true
   },
   "outputs": [],
   "source": [
    "p0 = np.zeros((sampler.k, sampler.dim))\n",
    "p0[:,0] = np.random.normal(0., 5., size=sampler.k) # mas/yr\n",
    "p0[:,1] = np.random.normal(0., 5., size=sampler.k) # mas/yr\n",
    "p0[:,2] = np.random.normal(vhel[ix], err_vhel[ix]/10., size=sampler.k) # km/s"
   ]
  },
  {
   "cell_type": "code",
   "execution_count": null,
   "metadata": {
    "collapsed": false
   },
   "outputs": [],
   "source": [
    "_ = sampler.run_mcmc(p0, 100)"
   ]
  },
  {
   "cell_type": "code",
   "execution_count": null,
   "metadata": {
    "collapsed": false
   },
   "outputs": [],
   "source": [
    "for i in range(3):\n",
    "    pl.figure()\n",
    "    pl.plot(sampler.chain[...,i].T, marker=None, drawstyle='steps', alpha=0.5)"
   ]
  },
  {
   "cell_type": "code",
   "execution_count": null,
   "metadata": {
    "collapsed": false
   },
   "outputs": [],
   "source": [
    "for i in range(3):\n",
    "    pl.figure()\n",
    "    pl.hist(np.hstack(sampler.chain[:,60:,i]))\n",
    "    if i == 2:\n",
    "        pl.axvline(vhel[0].value, c='#aaaaaa')\n",
    "        pl.axvline(vhel[0].value+err_vhel[0].value, c='#aaaaaa', linestyle='dashed')\n",
    "        pl.axvline(vhel[0].value-err_vhel[0].value, c='#aaaaaa', linestyle='dashed')"
   ]
  },
  {
   "cell_type": "code",
   "execution_count": null,
   "metadata": {
    "collapsed": true
   },
   "outputs": [],
   "source": []
  },
  {
   "cell_type": "markdown",
   "metadata": {},
   "source": [
    "---\n",
    "\n",
    "## Try getting posterior analytically..."
   ]
  },
  {
   "cell_type": "code",
   "execution_count": null,
   "metadata": {
    "collapsed": true
   },
   "outputs": [],
   "source": [
    "from scipy.integrate import tplquad"
   ]
  },
  {
   "cell_type": "code",
   "execution_count": null,
   "metadata": {
    "collapsed": true
   },
   "outputs": [],
   "source": [
    "def integrand(pm_l,pm_b,vlos,*args):\n",
    "    p = (pm_l,pm_b,vlos)\n",
    "    return np.exp(ln_posterior(p,*args))"
   ]
  },
  {
   "cell_type": "code",
   "execution_count": null,
   "metadata": {
    "collapsed": false
   },
   "outputs": [],
   "source": [
    "res = tplquad(integrand, \n",
    "              a=-500., b=500.,\n",
    "              gfun=lambda *args: -100., hfun=lambda *args: 100.,\n",
    "              qfun=lambda *args: -100., rfun=lambda *args: 100.,\n",
    "              args=(c[0], vhel[0], err_vhel[0], sigma_halo))"
   ]
  },
  {
   "cell_type": "code",
   "execution_count": null,
   "metadata": {
    "collapsed": true
   },
   "outputs": [],
   "source": []
  }
 ],
 "metadata": {
  "kernelspec": {
   "display_name": "Python 3",
   "language": "python",
   "name": "python3"
  },
  "language_info": {
   "codemirror_mode": {
    "name": "ipython",
    "version": 3
   },
   "file_extension": ".py",
   "mimetype": "text/x-python",
   "name": "python",
   "nbconvert_exporter": "python",
   "pygments_lexer": "ipython3",
   "version": "3.5.1"
  }
 },
 "nbformat": 4,
 "nbformat_minor": 0
}